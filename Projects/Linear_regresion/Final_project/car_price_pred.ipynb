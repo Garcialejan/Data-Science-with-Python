{
 "cells": [
  {
   "cell_type": "code",
   "execution_count": 22,
   "metadata": {},
   "outputs": [],
   "source": [
    "import numpy as np\n",
    "import pandas as pd\n",
    "import seaborn as sns\n",
    "import sklearn\n",
    "from sklearn.preprocessing import LabelEncoder\n",
    "from sklearn.preprocessing import StandardScaler"
   ]
  },
  {
   "cell_type": "code",
   "execution_count": 4,
   "metadata": {},
   "outputs": [],
   "source": [
    "path = 'F:\\DOCUMENTOS ALEJANDRO\\MASTERMIND\\Mastermind\\DATA\\GITHUB\\Projects\\Linear_regresion\\Final_project\\CarPrice_Assignment.csv'\n",
    "\n",
    "df= pd.read_csv(path)"
   ]
  },
  {
   "cell_type": "code",
   "execution_count": 5,
   "metadata": {},
   "outputs": [
    {
     "name": "stdout",
     "output_type": "stream",
     "text": [
      "<class 'pandas.core.frame.DataFrame'>\n",
      "RangeIndex: 205 entries, 0 to 204\n",
      "Data columns (total 26 columns):\n",
      " #   Column            Non-Null Count  Dtype  \n",
      "---  ------            --------------  -----  \n",
      " 0   car_ID            205 non-null    int64  \n",
      " 1   symboling         205 non-null    int64  \n",
      " 2   CarName           205 non-null    object \n",
      " 3   fueltype          205 non-null    object \n",
      " 4   aspiration        205 non-null    object \n",
      " 5   doornumber        205 non-null    object \n",
      " 6   carbody           205 non-null    object \n",
      " 7   drivewheel        205 non-null    object \n",
      " 8   enginelocation    205 non-null    object \n",
      " 9   wheelbase         205 non-null    float64\n",
      " 10  carlength         205 non-null    float64\n",
      " 11  carwidth          205 non-null    float64\n",
      " 12  carheight         205 non-null    float64\n",
      " 13  curbweight        205 non-null    int64  \n",
      " 14  enginetype        205 non-null    object \n",
      " 15  cylindernumber    205 non-null    object \n",
      " 16  enginesize        205 non-null    int64  \n",
      " 17  fuelsystem        205 non-null    object \n",
      " 18  boreratio         205 non-null    float64\n",
      " 19  stroke            205 non-null    float64\n",
      " 20  compressionratio  205 non-null    float64\n",
      " 21  horsepower        205 non-null    int64  \n",
      " 22  peakrpm           205 non-null    int64  \n",
      " 23  citympg           205 non-null    int64  \n",
      " 24  highwaympg        205 non-null    int64  \n",
      " 25  price             205 non-null    float64\n",
      "dtypes: float64(8), int64(8), object(10)\n",
      "memory usage: 41.8+ KB\n"
     ]
    }
   ],
   "source": [
    "df.info()"
   ]
  },
  {
   "cell_type": "markdown",
   "metadata": {},
   "source": [
    "- 1\tCar_ID\tUnique id of each observation (Interger)\n",
    "- 2\tSymboling\tIts assigned insurance risk rating, A value of +3 indicates that the auto is risky, -3 that it is probably pretty safe.(Categorical)\n",
    "- 3\tcarCompany\tName of car company (Categorical)\n",
    "- 4\tfueltype\tCar fuel type i.e gas or diesel (Categorical)\n",
    "- 5\taspiration\tAspiration used in a car (Categorical) (Std o Turbo)\n",
    "- 6\tdoornumber\tNumber of doors in a car (Categorical). Puertas\n",
    "- 7\tcarbody\tbody of car (Categorical). (convertible, sedan, wagon …)\n",
    "- 8\tdrivewheel\ttype of drive wheel (Categorical). (hidráulica, manual, )\n",
    "- 9\tenginelocation\tLocation of car engine (Categorical). Lugar del motor\n",
    "- 10 wheelbase\tWeelbase of car (Numeric). Distancia de ejes en pulgadas.\n",
    "- 11 carlength\tLength of car (Numeric). Longitud\n",
    "- 12 carwidth\tWidth of car (Numeric). Amplitud\n",
    "- 13 carheight\theight of car (Numeric). Altura\n",
    "- 14 curbweight\tThe weight of a car without occupants or baggage. (Numeric). Peso del auto\n",
    "- 15 enginetype\tType of engine. (Categorical). Tipo de motor\n",
    "- 16 cylindernumber\tcylinder placed in the car (Categorical). Cilindraje\n",
    "- 17 enginesize\tSize of car (Numeric). Tamaño del carro en …\n",
    "- 18 fuelsystem\tFuel system of car (Categorical)\n",
    "- 19 boreratio\tBoreratio of car (Numeric). Eficiencia de motor\n",
    "- 20 troke\tStroke or volume inside the engine (Numeric). Pistones, tiempos, combustión\n",
    "- 21 compressionratio\tcompression ratio of car (Numeric). Comprensión o medición de presión en motor\n",
    "- 22 horsepower\tHorsepower (Numeric). Poder del carro\n",
    "- 23 peakrpm\tcar peak rpm (Numeric). Picos de revoluciones por minuto\n",
    "- 24 citympg\tMileage in city (Numeric). Consumo de gasolina\n",
    "- 25 highwaympg\tMileage on highway (Numeric). Consumo de gasolina\n",
    "- 26 price"
   ]
  },
  {
   "cell_type": "markdown",
   "metadata": {},
   "source": [
    "# 1. Data analysis and manipulation"
   ]
  },
  {
   "cell_type": "code",
   "execution_count": 6,
   "metadata": {},
   "outputs": [
    {
     "data": {
      "text/plain": [
       "Index(['car_ID', 'symboling', 'CarName', 'fueltype', 'aspiration',\n",
       "       'doornumber', 'carbody', 'drivewheel', 'enginelocation', 'wheelbase',\n",
       "       'carlength', 'carwidth', 'carheight', 'curbweight', 'enginetype',\n",
       "       'cylindernumber', 'enginesize', 'fuelsystem', 'boreratio', 'stroke',\n",
       "       'compressionratio', 'horsepower', 'peakrpm', 'citympg', 'highwaympg',\n",
       "       'price'],\n",
       "      dtype='object')"
      ]
     },
     "execution_count": 6,
     "metadata": {},
     "output_type": "execute_result"
    }
   ],
   "source": [
    "df.columns"
   ]
  },
  {
   "cell_type": "code",
   "execution_count": 7,
   "metadata": {},
   "outputs": [],
   "source": [
    "df.drop([\"car_ID\", \"symboling\", \"drivewheel\", \"wheelbase\"], axis=1, inplace=True)"
   ]
  },
  {
   "cell_type": "code",
   "execution_count": 8,
   "metadata": {},
   "outputs": [
    {
     "data": {
      "text/plain": [
       "Index(['CarName', 'fueltype', 'aspiration', 'doornumber', 'carbody',\n",
       "       'enginelocation', 'carlength', 'carwidth', 'carheight', 'curbweight',\n",
       "       'enginetype', 'cylindernumber', 'enginesize', 'fuelsystem', 'boreratio',\n",
       "       'stroke', 'compressionratio', 'horsepower', 'peakrpm', 'citympg',\n",
       "       'highwaympg', 'price'],\n",
       "      dtype='object')"
      ]
     },
     "execution_count": 8,
     "metadata": {},
     "output_type": "execute_result"
    }
   ],
   "source": [
    "df.columns"
   ]
  },
  {
   "cell_type": "code",
   "execution_count": 9,
   "metadata": {},
   "outputs": [
    {
     "data": {
      "text/html": [
       "<div>\n",
       "<style scoped>\n",
       "    .dataframe tbody tr th:only-of-type {\n",
       "        vertical-align: middle;\n",
       "    }\n",
       "\n",
       "    .dataframe tbody tr th {\n",
       "        vertical-align: top;\n",
       "    }\n",
       "\n",
       "    .dataframe thead th {\n",
       "        text-align: right;\n",
       "    }\n",
       "</style>\n",
       "<table border=\"1\" class=\"dataframe\">\n",
       "  <thead>\n",
       "    <tr style=\"text-align: right;\">\n",
       "      <th></th>\n",
       "      <th>CarName</th>\n",
       "      <th>fueltype</th>\n",
       "      <th>aspiration</th>\n",
       "      <th>doornumber</th>\n",
       "      <th>carbody</th>\n",
       "      <th>enginelocation</th>\n",
       "      <th>carlength</th>\n",
       "      <th>carwidth</th>\n",
       "      <th>carheight</th>\n",
       "      <th>curbweight</th>\n",
       "      <th>...</th>\n",
       "      <th>enginesize</th>\n",
       "      <th>fuelsystem</th>\n",
       "      <th>boreratio</th>\n",
       "      <th>stroke</th>\n",
       "      <th>compressionratio</th>\n",
       "      <th>horsepower</th>\n",
       "      <th>peakrpm</th>\n",
       "      <th>citympg</th>\n",
       "      <th>highwaympg</th>\n",
       "      <th>price</th>\n",
       "    </tr>\n",
       "  </thead>\n",
       "  <tbody>\n",
       "    <tr>\n",
       "      <th>0</th>\n",
       "      <td>alfa-romero giulia</td>\n",
       "      <td>gas</td>\n",
       "      <td>std</td>\n",
       "      <td>two</td>\n",
       "      <td>convertible</td>\n",
       "      <td>front</td>\n",
       "      <td>168.8</td>\n",
       "      <td>64.1</td>\n",
       "      <td>48.8</td>\n",
       "      <td>2548</td>\n",
       "      <td>...</td>\n",
       "      <td>130</td>\n",
       "      <td>mpfi</td>\n",
       "      <td>3.47</td>\n",
       "      <td>2.68</td>\n",
       "      <td>9.0</td>\n",
       "      <td>111</td>\n",
       "      <td>5000</td>\n",
       "      <td>21</td>\n",
       "      <td>27</td>\n",
       "      <td>13495.0</td>\n",
       "    </tr>\n",
       "    <tr>\n",
       "      <th>1</th>\n",
       "      <td>alfa-romero stelvio</td>\n",
       "      <td>gas</td>\n",
       "      <td>std</td>\n",
       "      <td>two</td>\n",
       "      <td>convertible</td>\n",
       "      <td>front</td>\n",
       "      <td>168.8</td>\n",
       "      <td>64.1</td>\n",
       "      <td>48.8</td>\n",
       "      <td>2548</td>\n",
       "      <td>...</td>\n",
       "      <td>130</td>\n",
       "      <td>mpfi</td>\n",
       "      <td>3.47</td>\n",
       "      <td>2.68</td>\n",
       "      <td>9.0</td>\n",
       "      <td>111</td>\n",
       "      <td>5000</td>\n",
       "      <td>21</td>\n",
       "      <td>27</td>\n",
       "      <td>16500.0</td>\n",
       "    </tr>\n",
       "    <tr>\n",
       "      <th>2</th>\n",
       "      <td>alfa-romero Quadrifoglio</td>\n",
       "      <td>gas</td>\n",
       "      <td>std</td>\n",
       "      <td>two</td>\n",
       "      <td>hatchback</td>\n",
       "      <td>front</td>\n",
       "      <td>171.2</td>\n",
       "      <td>65.5</td>\n",
       "      <td>52.4</td>\n",
       "      <td>2823</td>\n",
       "      <td>...</td>\n",
       "      <td>152</td>\n",
       "      <td>mpfi</td>\n",
       "      <td>2.68</td>\n",
       "      <td>3.47</td>\n",
       "      <td>9.0</td>\n",
       "      <td>154</td>\n",
       "      <td>5000</td>\n",
       "      <td>19</td>\n",
       "      <td>26</td>\n",
       "      <td>16500.0</td>\n",
       "    </tr>\n",
       "    <tr>\n",
       "      <th>3</th>\n",
       "      <td>audi 100 ls</td>\n",
       "      <td>gas</td>\n",
       "      <td>std</td>\n",
       "      <td>four</td>\n",
       "      <td>sedan</td>\n",
       "      <td>front</td>\n",
       "      <td>176.6</td>\n",
       "      <td>66.2</td>\n",
       "      <td>54.3</td>\n",
       "      <td>2337</td>\n",
       "      <td>...</td>\n",
       "      <td>109</td>\n",
       "      <td>mpfi</td>\n",
       "      <td>3.19</td>\n",
       "      <td>3.40</td>\n",
       "      <td>10.0</td>\n",
       "      <td>102</td>\n",
       "      <td>5500</td>\n",
       "      <td>24</td>\n",
       "      <td>30</td>\n",
       "      <td>13950.0</td>\n",
       "    </tr>\n",
       "    <tr>\n",
       "      <th>4</th>\n",
       "      <td>audi 100ls</td>\n",
       "      <td>gas</td>\n",
       "      <td>std</td>\n",
       "      <td>four</td>\n",
       "      <td>sedan</td>\n",
       "      <td>front</td>\n",
       "      <td>176.6</td>\n",
       "      <td>66.4</td>\n",
       "      <td>54.3</td>\n",
       "      <td>2824</td>\n",
       "      <td>...</td>\n",
       "      <td>136</td>\n",
       "      <td>mpfi</td>\n",
       "      <td>3.19</td>\n",
       "      <td>3.40</td>\n",
       "      <td>8.0</td>\n",
       "      <td>115</td>\n",
       "      <td>5500</td>\n",
       "      <td>18</td>\n",
       "      <td>22</td>\n",
       "      <td>17450.0</td>\n",
       "    </tr>\n",
       "  </tbody>\n",
       "</table>\n",
       "<p>5 rows × 22 columns</p>\n",
       "</div>"
      ],
      "text/plain": [
       "                    CarName fueltype aspiration doornumber      carbody  \\\n",
       "0        alfa-romero giulia      gas        std        two  convertible   \n",
       "1       alfa-romero stelvio      gas        std        two  convertible   \n",
       "2  alfa-romero Quadrifoglio      gas        std        two    hatchback   \n",
       "3               audi 100 ls      gas        std       four        sedan   \n",
       "4                audi 100ls      gas        std       four        sedan   \n",
       "\n",
       "  enginelocation  carlength  carwidth  carheight  curbweight  ... enginesize  \\\n",
       "0          front      168.8      64.1       48.8        2548  ...        130   \n",
       "1          front      168.8      64.1       48.8        2548  ...        130   \n",
       "2          front      171.2      65.5       52.4        2823  ...        152   \n",
       "3          front      176.6      66.2       54.3        2337  ...        109   \n",
       "4          front      176.6      66.4       54.3        2824  ...        136   \n",
       "\n",
       "  fuelsystem  boreratio stroke  compressionratio  horsepower  peakrpm  \\\n",
       "0       mpfi       3.47   2.68               9.0         111     5000   \n",
       "1       mpfi       3.47   2.68               9.0         111     5000   \n",
       "2       mpfi       2.68   3.47               9.0         154     5000   \n",
       "3       mpfi       3.19   3.40              10.0         102     5500   \n",
       "4       mpfi       3.19   3.40               8.0         115     5500   \n",
       "\n",
       "   citympg  highwaympg    price  \n",
       "0       21          27  13495.0  \n",
       "1       21          27  16500.0  \n",
       "2       19          26  16500.0  \n",
       "3       24          30  13950.0  \n",
       "4       18          22  17450.0  \n",
       "\n",
       "[5 rows x 22 columns]"
      ]
     },
     "execution_count": 9,
     "metadata": {},
     "output_type": "execute_result"
    }
   ],
   "source": [
    "df.head()"
   ]
  },
  {
   "cell_type": "markdown",
   "metadata": {},
   "source": [
    "- Voy a extraer el nombre de la marca y definirlo en una nueva columna. Quiero hacer mis predicciones en función de la marca y las características del coche, por lo que el modelo no lo voy a tener en cuenta para resolver este proyecto."
   ]
  },
  {
   "cell_type": "code",
   "execution_count": 10,
   "metadata": {},
   "outputs": [],
   "source": [
    "df['CarName'] = df['CarName'].str.split().str[0]"
   ]
  },
  {
   "cell_type": "code",
   "execution_count": 11,
   "metadata": {},
   "outputs": [],
   "source": [
    "df.rename(columns = {'CarName':'brand'}, inplace = True)"
   ]
  },
  {
   "cell_type": "markdown",
   "metadata": {},
   "source": [
    "- Comprobamos si hay algun NaN"
   ]
  },
  {
   "cell_type": "code",
   "execution_count": 12,
   "metadata": {},
   "outputs": [
    {
     "data": {
      "text/plain": [
       "brand               False\n",
       "fueltype            False\n",
       "aspiration          False\n",
       "doornumber          False\n",
       "carbody             False\n",
       "enginelocation      False\n",
       "carlength           False\n",
       "carwidth            False\n",
       "carheight           False\n",
       "curbweight          False\n",
       "enginetype          False\n",
       "cylindernumber      False\n",
       "enginesize          False\n",
       "fuelsystem          False\n",
       "boreratio           False\n",
       "stroke              False\n",
       "compressionratio    False\n",
       "horsepower          False\n",
       "peakrpm             False\n",
       "citympg             False\n",
       "highwaympg          False\n",
       "price               False\n",
       "dtype: bool"
      ]
     },
     "execution_count": 12,
     "metadata": {},
     "output_type": "execute_result"
    }
   ],
   "source": [
    "df.isnull().any()"
   ]
  },
  {
   "cell_type": "markdown",
   "metadata": {},
   "source": [
    "## Encoding de los registros del tipo string"
   ]
  },
  {
   "cell_type": "code",
   "execution_count": 13,
   "metadata": {},
   "outputs": [
    {
     "name": "stdout",
     "output_type": "stream",
     "text": [
      "<class 'pandas.core.frame.DataFrame'>\n",
      "RangeIndex: 205 entries, 0 to 204\n",
      "Data columns (total 22 columns):\n",
      " #   Column            Non-Null Count  Dtype  \n",
      "---  ------            --------------  -----  \n",
      " 0   brand             205 non-null    object \n",
      " 1   fueltype          205 non-null    object \n",
      " 2   aspiration        205 non-null    object \n",
      " 3   doornumber        205 non-null    object \n",
      " 4   carbody           205 non-null    object \n",
      " 5   enginelocation    205 non-null    object \n",
      " 6   carlength         205 non-null    float64\n",
      " 7   carwidth          205 non-null    float64\n",
      " 8   carheight         205 non-null    float64\n",
      " 9   curbweight        205 non-null    int64  \n",
      " 10  enginetype        205 non-null    object \n",
      " 11  cylindernumber    205 non-null    object \n",
      " 12  enginesize        205 non-null    int64  \n",
      " 13  fuelsystem        205 non-null    object \n",
      " 14  boreratio         205 non-null    float64\n",
      " 15  stroke            205 non-null    float64\n",
      " 16  compressionratio  205 non-null    float64\n",
      " 17  horsepower        205 non-null    int64  \n",
      " 18  peakrpm           205 non-null    int64  \n",
      " 19  citympg           205 non-null    int64  \n",
      " 20  highwaympg        205 non-null    int64  \n",
      " 21  price             205 non-null    float64\n",
      "dtypes: float64(7), int64(6), object(9)\n",
      "memory usage: 35.4+ KB\n"
     ]
    }
   ],
   "source": [
    "df.info()"
   ]
  },
  {
   "cell_type": "code",
   "execution_count": 14,
   "metadata": {},
   "outputs": [],
   "source": [
    "le = LabelEncoder()"
   ]
  },
  {
   "cell_type": "code",
   "execution_count": 15,
   "metadata": {},
   "outputs": [],
   "source": [
    "df['brand'] = le.fit_transform(df['brand'])\n",
    "df['fueltype'] = le.fit_transform(df['fueltype']) \n",
    "df['aspiration'] = le.fit_transform(df['aspiration']) \n",
    "df['doornumber'] = le.fit_transform(df['doornumber']) \n",
    "df['carbody'] = le.fit_transform(df['carbody']) \n",
    "df['enginelocation'] = le.fit_transform(df['enginelocation']) \n",
    "df['enginetype'] = le.fit_transform(df['enginetype'])\n",
    "df['cylindernumber'] = le.fit_transform(df['cylindernumber']) \n",
    "df['fuelsystem'] = le.fit_transform(df['fuelsystem'])"
   ]
  },
  {
   "cell_type": "code",
   "execution_count": 16,
   "metadata": {},
   "outputs": [],
   "source": [
    "#columns_to_encode = ['brand', 'fueltype', 'aspiration', 'doornumber', 'carbody', \n",
    "#                     'enginelocation', 'enginetype', 'cylindernumber', 'fuelsystem']\n",
    "\n",
    "#for column in columns_to_encode:\n",
    "    #df[column] = le.fit_transform(df[column])"
   ]
  },
  {
   "cell_type": "code",
   "execution_count": 19,
   "metadata": {},
   "outputs": [
    {
     "data": {
      "text/html": [
       "<div>\n",
       "<style scoped>\n",
       "    .dataframe tbody tr th:only-of-type {\n",
       "        vertical-align: middle;\n",
       "    }\n",
       "\n",
       "    .dataframe tbody tr th {\n",
       "        vertical-align: top;\n",
       "    }\n",
       "\n",
       "    .dataframe thead th {\n",
       "        text-align: right;\n",
       "    }\n",
       "</style>\n",
       "<table border=\"1\" class=\"dataframe\">\n",
       "  <thead>\n",
       "    <tr style=\"text-align: right;\">\n",
       "      <th></th>\n",
       "      <th>brand</th>\n",
       "      <th>fueltype</th>\n",
       "      <th>aspiration</th>\n",
       "      <th>doornumber</th>\n",
       "      <th>carbody</th>\n",
       "      <th>enginelocation</th>\n",
       "      <th>carlength</th>\n",
       "      <th>carwidth</th>\n",
       "      <th>carheight</th>\n",
       "      <th>curbweight</th>\n",
       "      <th>...</th>\n",
       "      <th>enginesize</th>\n",
       "      <th>fuelsystem</th>\n",
       "      <th>boreratio</th>\n",
       "      <th>stroke</th>\n",
       "      <th>compressionratio</th>\n",
       "      <th>horsepower</th>\n",
       "      <th>peakrpm</th>\n",
       "      <th>citympg</th>\n",
       "      <th>highwaympg</th>\n",
       "      <th>price</th>\n",
       "    </tr>\n",
       "  </thead>\n",
       "  <tbody>\n",
       "    <tr>\n",
       "      <th>0</th>\n",
       "      <td>1</td>\n",
       "      <td>1</td>\n",
       "      <td>0</td>\n",
       "      <td>1</td>\n",
       "      <td>0</td>\n",
       "      <td>0</td>\n",
       "      <td>168.8</td>\n",
       "      <td>64.1</td>\n",
       "      <td>48.8</td>\n",
       "      <td>2548</td>\n",
       "      <td>...</td>\n",
       "      <td>130</td>\n",
       "      <td>5</td>\n",
       "      <td>3.47</td>\n",
       "      <td>2.68</td>\n",
       "      <td>9.0</td>\n",
       "      <td>111</td>\n",
       "      <td>5000</td>\n",
       "      <td>21</td>\n",
       "      <td>27</td>\n",
       "      <td>13495.0</td>\n",
       "    </tr>\n",
       "    <tr>\n",
       "      <th>1</th>\n",
       "      <td>1</td>\n",
       "      <td>1</td>\n",
       "      <td>0</td>\n",
       "      <td>1</td>\n",
       "      <td>0</td>\n",
       "      <td>0</td>\n",
       "      <td>168.8</td>\n",
       "      <td>64.1</td>\n",
       "      <td>48.8</td>\n",
       "      <td>2548</td>\n",
       "      <td>...</td>\n",
       "      <td>130</td>\n",
       "      <td>5</td>\n",
       "      <td>3.47</td>\n",
       "      <td>2.68</td>\n",
       "      <td>9.0</td>\n",
       "      <td>111</td>\n",
       "      <td>5000</td>\n",
       "      <td>21</td>\n",
       "      <td>27</td>\n",
       "      <td>16500.0</td>\n",
       "    </tr>\n",
       "    <tr>\n",
       "      <th>2</th>\n",
       "      <td>1</td>\n",
       "      <td>1</td>\n",
       "      <td>0</td>\n",
       "      <td>1</td>\n",
       "      <td>2</td>\n",
       "      <td>0</td>\n",
       "      <td>171.2</td>\n",
       "      <td>65.5</td>\n",
       "      <td>52.4</td>\n",
       "      <td>2823</td>\n",
       "      <td>...</td>\n",
       "      <td>152</td>\n",
       "      <td>5</td>\n",
       "      <td>2.68</td>\n",
       "      <td>3.47</td>\n",
       "      <td>9.0</td>\n",
       "      <td>154</td>\n",
       "      <td>5000</td>\n",
       "      <td>19</td>\n",
       "      <td>26</td>\n",
       "      <td>16500.0</td>\n",
       "    </tr>\n",
       "    <tr>\n",
       "      <th>3</th>\n",
       "      <td>2</td>\n",
       "      <td>1</td>\n",
       "      <td>0</td>\n",
       "      <td>0</td>\n",
       "      <td>3</td>\n",
       "      <td>0</td>\n",
       "      <td>176.6</td>\n",
       "      <td>66.2</td>\n",
       "      <td>54.3</td>\n",
       "      <td>2337</td>\n",
       "      <td>...</td>\n",
       "      <td>109</td>\n",
       "      <td>5</td>\n",
       "      <td>3.19</td>\n",
       "      <td>3.40</td>\n",
       "      <td>10.0</td>\n",
       "      <td>102</td>\n",
       "      <td>5500</td>\n",
       "      <td>24</td>\n",
       "      <td>30</td>\n",
       "      <td>13950.0</td>\n",
       "    </tr>\n",
       "    <tr>\n",
       "      <th>4</th>\n",
       "      <td>2</td>\n",
       "      <td>1</td>\n",
       "      <td>0</td>\n",
       "      <td>0</td>\n",
       "      <td>3</td>\n",
       "      <td>0</td>\n",
       "      <td>176.6</td>\n",
       "      <td>66.4</td>\n",
       "      <td>54.3</td>\n",
       "      <td>2824</td>\n",
       "      <td>...</td>\n",
       "      <td>136</td>\n",
       "      <td>5</td>\n",
       "      <td>3.19</td>\n",
       "      <td>3.40</td>\n",
       "      <td>8.0</td>\n",
       "      <td>115</td>\n",
       "      <td>5500</td>\n",
       "      <td>18</td>\n",
       "      <td>22</td>\n",
       "      <td>17450.0</td>\n",
       "    </tr>\n",
       "  </tbody>\n",
       "</table>\n",
       "<p>5 rows × 22 columns</p>\n",
       "</div>"
      ],
      "text/plain": [
       "   brand  fueltype  aspiration  doornumber  carbody  enginelocation  \\\n",
       "0      1         1           0           1        0               0   \n",
       "1      1         1           0           1        0               0   \n",
       "2      1         1           0           1        2               0   \n",
       "3      2         1           0           0        3               0   \n",
       "4      2         1           0           0        3               0   \n",
       "\n",
       "   carlength  carwidth  carheight  curbweight  ...  enginesize  fuelsystem  \\\n",
       "0      168.8      64.1       48.8        2548  ...         130           5   \n",
       "1      168.8      64.1       48.8        2548  ...         130           5   \n",
       "2      171.2      65.5       52.4        2823  ...         152           5   \n",
       "3      176.6      66.2       54.3        2337  ...         109           5   \n",
       "4      176.6      66.4       54.3        2824  ...         136           5   \n",
       "\n",
       "   boreratio  stroke  compressionratio  horsepower  peakrpm  citympg  \\\n",
       "0       3.47    2.68               9.0         111     5000       21   \n",
       "1       3.47    2.68               9.0         111     5000       21   \n",
       "2       2.68    3.47               9.0         154     5000       19   \n",
       "3       3.19    3.40              10.0         102     5500       24   \n",
       "4       3.19    3.40               8.0         115     5500       18   \n",
       "\n",
       "   highwaympg    price  \n",
       "0          27  13495.0  \n",
       "1          27  16500.0  \n",
       "2          26  16500.0  \n",
       "3          30  13950.0  \n",
       "4          22  17450.0  \n",
       "\n",
       "[5 rows x 22 columns]"
      ]
     },
     "execution_count": 19,
     "metadata": {},
     "output_type": "execute_result"
    }
   ],
   "source": [
    "df.head()"
   ]
  },
  {
   "cell_type": "markdown",
   "metadata": {},
   "source": [
    "## Scaling de los registros de tipo numérico"
   ]
  },
  {
   "cell_type": "code",
   "execution_count": 23,
   "metadata": {},
   "outputs": [
    {
     "data": {
      "text/plain": [
       "Index(['brand', 'fueltype', 'aspiration', 'doornumber', 'carbody',\n",
       "       'enginelocation', 'carlength', 'carwidth', 'carheight', 'curbweight',\n",
       "       'enginetype', 'cylindernumber', 'enginesize', 'fuelsystem', 'boreratio',\n",
       "       'stroke', 'compressionratio', 'horsepower', 'peakrpm', 'citympg',\n",
       "       'highwaympg', 'price'],\n",
       "      dtype='object')"
      ]
     },
     "execution_count": 23,
     "metadata": {},
     "output_type": "execute_result"
    }
   ],
   "source": [
    "df.columns"
   ]
  },
  {
   "cell_type": "code",
   "execution_count": 24,
   "metadata": {},
   "outputs": [],
   "source": [
    "s_sc = StandardScaler()\n",
    "\n",
    "df[['carlength', 'carwidth', 'carheight', 'curbweight', \n",
    "    'cylindernumber', 'enginesize', 'boreratio','stroke', \n",
    "    'compressionratio', 'horsepower', 'peakrpm', 'citympg',\n",
    "    'highwaympg']] =  s_sc.fit_transform(df[['carlength', 'carwidth', 'carheight', 'curbweight', \n",
    "    'cylindernumber', 'enginesize', 'boreratio','stroke', \n",
    "    'compressionratio', 'horsepower', 'peakrpm', 'citympg',\n",
    "    'highwaympg']])"
   ]
  },
  {
   "cell_type": "code",
   "execution_count": 25,
   "metadata": {},
   "outputs": [
    {
     "data": {
      "text/html": [
       "<div>\n",
       "<style scoped>\n",
       "    .dataframe tbody tr th:only-of-type {\n",
       "        vertical-align: middle;\n",
       "    }\n",
       "\n",
       "    .dataframe tbody tr th {\n",
       "        vertical-align: top;\n",
       "    }\n",
       "\n",
       "    .dataframe thead th {\n",
       "        text-align: right;\n",
       "    }\n",
       "</style>\n",
       "<table border=\"1\" class=\"dataframe\">\n",
       "  <thead>\n",
       "    <tr style=\"text-align: right;\">\n",
       "      <th></th>\n",
       "      <th>brand</th>\n",
       "      <th>fueltype</th>\n",
       "      <th>aspiration</th>\n",
       "      <th>doornumber</th>\n",
       "      <th>carbody</th>\n",
       "      <th>enginelocation</th>\n",
       "      <th>carlength</th>\n",
       "      <th>carwidth</th>\n",
       "      <th>carheight</th>\n",
       "      <th>curbweight</th>\n",
       "      <th>...</th>\n",
       "      <th>enginesize</th>\n",
       "      <th>fuelsystem</th>\n",
       "      <th>boreratio</th>\n",
       "      <th>stroke</th>\n",
       "      <th>compressionratio</th>\n",
       "      <th>horsepower</th>\n",
       "      <th>peakrpm</th>\n",
       "      <th>citympg</th>\n",
       "      <th>highwaympg</th>\n",
       "      <th>price</th>\n",
       "    </tr>\n",
       "  </thead>\n",
       "  <tbody>\n",
       "    <tr>\n",
       "      <th>39</th>\n",
       "      <td>7</td>\n",
       "      <td>1</td>\n",
       "      <td>0</td>\n",
       "      <td>0</td>\n",
       "      <td>3</td>\n",
       "      <td>0</td>\n",
       "      <td>0.109752</td>\n",
       "      <td>-0.330755</td>\n",
       "      <td>0.153893</td>\n",
       "      <td>-0.484331</td>\n",
       "      <td>...</td>\n",
       "      <td>-0.407003</td>\n",
       "      <td>0</td>\n",
       "      <td>-0.665314</td>\n",
       "      <td>1.037573</td>\n",
       "      <td>-0.288349</td>\n",
       "      <td>-0.459269</td>\n",
       "      <td>1.418345</td>\n",
       "      <td>0.272823</td>\n",
       "      <td>0.327351</td>\n",
       "      <td>8845.0</td>\n",
       "    </tr>\n",
       "    <tr>\n",
       "      <th>168</th>\n",
       "      <td>22</td>\n",
       "      <td>1</td>\n",
       "      <td>0</td>\n",
       "      <td>1</td>\n",
       "      <td>1</td>\n",
       "      <td>0</td>\n",
       "      <td>0.174754</td>\n",
       "      <td>-0.143836</td>\n",
       "      <td>-0.707626</td>\n",
       "      <td>-0.037669</td>\n",
       "      <td>...</td>\n",
       "      <td>0.459611</td>\n",
       "      <td>5</td>\n",
       "      <td>1.074252</td>\n",
       "      <td>0.781845</td>\n",
       "      <td>-0.212636</td>\n",
       "      <td>0.301233</td>\n",
       "      <td>-0.683286</td>\n",
       "      <td>-0.186865</td>\n",
       "      <td>-0.109354</td>\n",
       "      <td>9639.0</td>\n",
       "    </tr>\n",
       "    <tr>\n",
       "      <th>120</th>\n",
       "      <td>16</td>\n",
       "      <td>1</td>\n",
       "      <td>0</td>\n",
       "      <td>0</td>\n",
       "      <td>2</td>\n",
       "      <td>0</td>\n",
       "      <td>-1.360937</td>\n",
       "      <td>-0.984972</td>\n",
       "      <td>-1.281972</td>\n",
       "      <td>-1.133146</td>\n",
       "      <td>...</td>\n",
       "      <td>-0.888455</td>\n",
       "      <td>1</td>\n",
       "      <td>-1.331531</td>\n",
       "      <td>-0.081241</td>\n",
       "      <td>-0.187398</td>\n",
       "      <td>-0.915571</td>\n",
       "      <td>0.787855</td>\n",
       "      <td>0.885740</td>\n",
       "      <td>1.055193</td>\n",
       "      <td>6229.0</td>\n",
       "    </tr>\n",
       "    <tr>\n",
       "      <th>134</th>\n",
       "      <td>20</td>\n",
       "      <td>1</td>\n",
       "      <td>0</td>\n",
       "      <td>1</td>\n",
       "      <td>2</td>\n",
       "      <td>0</td>\n",
       "      <td>1.019791</td>\n",
       "      <td>0.276731</td>\n",
       "      <td>0.974387</td>\n",
       "      <td>0.291551</td>\n",
       "      <td>...</td>\n",
       "      <td>-0.142204</td>\n",
       "      <td>5</td>\n",
       "      <td>-2.923049</td>\n",
       "      <td>-3.789311</td>\n",
       "      <td>-0.212636</td>\n",
       "      <td>0.149133</td>\n",
       "      <td>0.262448</td>\n",
       "      <td>-0.646553</td>\n",
       "      <td>-0.400490</td>\n",
       "      <td>15040.0</td>\n",
       "    </tr>\n",
       "    <tr>\n",
       "      <th>78</th>\n",
       "      <td>13</td>\n",
       "      <td>1</td>\n",
       "      <td>0</td>\n",
       "      <td>1</td>\n",
       "      <td>2</td>\n",
       "      <td>0</td>\n",
       "      <td>-1.360937</td>\n",
       "      <td>-0.704593</td>\n",
       "      <td>-1.199923</td>\n",
       "      <td>-1.061911</td>\n",
       "      <td>...</td>\n",
       "      <td>-0.840310</td>\n",
       "      <td>1</td>\n",
       "      <td>-1.331531</td>\n",
       "      <td>-0.081241</td>\n",
       "      <td>-0.187398</td>\n",
       "      <td>-0.915571</td>\n",
       "      <td>0.787855</td>\n",
       "      <td>0.885740</td>\n",
       "      <td>1.055193</td>\n",
       "      <td>6669.0</td>\n",
       "    </tr>\n",
       "    <tr>\n",
       "      <th>66</th>\n",
       "      <td>11</td>\n",
       "      <td>0</td>\n",
       "      <td>0</td>\n",
       "      <td>0</td>\n",
       "      <td>3</td>\n",
       "      <td>0</td>\n",
       "      <td>0.077250</td>\n",
       "      <td>0.089812</td>\n",
       "      <td>0.276967</td>\n",
       "      <td>0.278074</td>\n",
       "      <td>...</td>\n",
       "      <td>0.170739</td>\n",
       "      <td>3</td>\n",
       "      <td>0.371023</td>\n",
       "      <td>1.229370</td>\n",
       "      <td>2.992540</td>\n",
       "      <td>-0.814171</td>\n",
       "      <td>-1.944265</td>\n",
       "      <td>0.885740</td>\n",
       "      <td>1.200761</td>\n",
       "      <td>18344.0</td>\n",
       "    </tr>\n",
       "    <tr>\n",
       "      <th>148</th>\n",
       "      <td>21</td>\n",
       "      <td>1</td>\n",
       "      <td>0</td>\n",
       "      <td>0</td>\n",
       "      <td>4</td>\n",
       "      <td>0</td>\n",
       "      <td>-0.036505</td>\n",
       "      <td>-0.237296</td>\n",
       "      <td>0.482090</td>\n",
       "      <td>-0.261000</td>\n",
       "      <td>...</td>\n",
       "      <td>-0.455148</td>\n",
       "      <td>1</td>\n",
       "      <td>1.074252</td>\n",
       "      <td>-1.967242</td>\n",
       "      <td>-0.288349</td>\n",
       "      <td>-0.560670</td>\n",
       "      <td>-0.683286</td>\n",
       "      <td>-0.340094</td>\n",
       "      <td>-0.254922</td>\n",
       "      <td>8013.0</td>\n",
       "    </tr>\n",
       "    <tr>\n",
       "      <th>193</th>\n",
       "      <td>25</td>\n",
       "      <td>1</td>\n",
       "      <td>0</td>\n",
       "      <td>0</td>\n",
       "      <td>4</td>\n",
       "      <td>0</td>\n",
       "      <td>0.735404</td>\n",
       "      <td>0.463650</td>\n",
       "      <td>0.564140</td>\n",
       "      <td>0.014313</td>\n",
       "      <td>...</td>\n",
       "      <td>-0.431076</td>\n",
       "      <td>5</td>\n",
       "      <td>-0.517266</td>\n",
       "      <td>0.462183</td>\n",
       "      <td>-0.288349</td>\n",
       "      <td>-0.408569</td>\n",
       "      <td>0.787855</td>\n",
       "      <td>-0.033636</td>\n",
       "      <td>0.036215</td>\n",
       "      <td>12290.0</td>\n",
       "    </tr>\n",
       "    <tr>\n",
       "      <th>126</th>\n",
       "      <td>17</td>\n",
       "      <td>1</td>\n",
       "      <td>0</td>\n",
       "      <td>1</td>\n",
       "      <td>1</td>\n",
       "      <td>1</td>\n",
       "      <td>-0.418396</td>\n",
       "      <td>-0.424215</td>\n",
       "      <td>-0.871725</td>\n",
       "      <td>0.385889</td>\n",
       "      <td>...</td>\n",
       "      <td>1.615095</td>\n",
       "      <td>5</td>\n",
       "      <td>1.518397</td>\n",
       "      <td>-1.136123</td>\n",
       "      <td>-0.162161</td>\n",
       "      <td>2.608091</td>\n",
       "      <td>1.628508</td>\n",
       "      <td>-1.259470</td>\n",
       "      <td>-0.837195</td>\n",
       "      <td>32528.0</td>\n",
       "    </tr>\n",
       "    <tr>\n",
       "      <th>31</th>\n",
       "      <td>7</td>\n",
       "      <td>1</td>\n",
       "      <td>0</td>\n",
       "      <td>1</td>\n",
       "      <td>2</td>\n",
       "      <td>0</td>\n",
       "      <td>-2.392856</td>\n",
       "      <td>-0.938242</td>\n",
       "      <td>-1.199923</td>\n",
       "      <td>-1.418085</td>\n",
       "      <td>...</td>\n",
       "      <td>-0.840310</td>\n",
       "      <td>0</td>\n",
       "      <td>-1.553603</td>\n",
       "      <td>0.494149</td>\n",
       "      <td>-0.237874</td>\n",
       "      <td>-0.712770</td>\n",
       "      <td>1.838671</td>\n",
       "      <td>0.885740</td>\n",
       "      <td>1.055193</td>\n",
       "      <td>6855.0</td>\n",
       "    </tr>\n",
       "  </tbody>\n",
       "</table>\n",
       "<p>10 rows × 22 columns</p>\n",
       "</div>"
      ],
      "text/plain": [
       "     brand  fueltype  aspiration  doornumber  carbody  enginelocation  \\\n",
       "39       7         1           0           0        3               0   \n",
       "168     22         1           0           1        1               0   \n",
       "120     16         1           0           0        2               0   \n",
       "134     20         1           0           1        2               0   \n",
       "78      13         1           0           1        2               0   \n",
       "66      11         0           0           0        3               0   \n",
       "148     21         1           0           0        4               0   \n",
       "193     25         1           0           0        4               0   \n",
       "126     17         1           0           1        1               1   \n",
       "31       7         1           0           1        2               0   \n",
       "\n",
       "     carlength  carwidth  carheight  curbweight  ...  enginesize  fuelsystem  \\\n",
       "39    0.109752 -0.330755   0.153893   -0.484331  ...   -0.407003           0   \n",
       "168   0.174754 -0.143836  -0.707626   -0.037669  ...    0.459611           5   \n",
       "120  -1.360937 -0.984972  -1.281972   -1.133146  ...   -0.888455           1   \n",
       "134   1.019791  0.276731   0.974387    0.291551  ...   -0.142204           5   \n",
       "78   -1.360937 -0.704593  -1.199923   -1.061911  ...   -0.840310           1   \n",
       "66    0.077250  0.089812   0.276967    0.278074  ...    0.170739           3   \n",
       "148  -0.036505 -0.237296   0.482090   -0.261000  ...   -0.455148           1   \n",
       "193   0.735404  0.463650   0.564140    0.014313  ...   -0.431076           5   \n",
       "126  -0.418396 -0.424215  -0.871725    0.385889  ...    1.615095           5   \n",
       "31   -2.392856 -0.938242  -1.199923   -1.418085  ...   -0.840310           0   \n",
       "\n",
       "     boreratio    stroke  compressionratio  horsepower   peakrpm   citympg  \\\n",
       "39   -0.665314  1.037573         -0.288349   -0.459269  1.418345  0.272823   \n",
       "168   1.074252  0.781845         -0.212636    0.301233 -0.683286 -0.186865   \n",
       "120  -1.331531 -0.081241         -0.187398   -0.915571  0.787855  0.885740   \n",
       "134  -2.923049 -3.789311         -0.212636    0.149133  0.262448 -0.646553   \n",
       "78   -1.331531 -0.081241         -0.187398   -0.915571  0.787855  0.885740   \n",
       "66    0.371023  1.229370          2.992540   -0.814171 -1.944265  0.885740   \n",
       "148   1.074252 -1.967242         -0.288349   -0.560670 -0.683286 -0.340094   \n",
       "193  -0.517266  0.462183         -0.288349   -0.408569  0.787855 -0.033636   \n",
       "126   1.518397 -1.136123         -0.162161    2.608091  1.628508 -1.259470   \n",
       "31   -1.553603  0.494149         -0.237874   -0.712770  1.838671  0.885740   \n",
       "\n",
       "     highwaympg    price  \n",
       "39     0.327351   8845.0  \n",
       "168   -0.109354   9639.0  \n",
       "120    1.055193   6229.0  \n",
       "134   -0.400490  15040.0  \n",
       "78     1.055193   6669.0  \n",
       "66     1.200761  18344.0  \n",
       "148   -0.254922   8013.0  \n",
       "193    0.036215  12290.0  \n",
       "126   -0.837195  32528.0  \n",
       "31     1.055193   6855.0  \n",
       "\n",
       "[10 rows x 22 columns]"
      ]
     },
     "execution_count": 25,
     "metadata": {},
     "output_type": "execute_result"
    }
   ],
   "source": [
    "df.sample(10)"
   ]
  },
  {
   "cell_type": "markdown",
   "metadata": {},
   "source": [
    "# 2. Explore"
   ]
  },
  {
   "cell_type": "code",
   "execution_count": 48,
   "metadata": {},
   "outputs": [],
   "source": [
    "pd.plotting.scatter_matrix(df, figsize=(16, 9));"
   ]
  },
  {
   "cell_type": "code",
   "execution_count": 47,
   "metadata": {},
   "outputs": [
    {
     "data": {
      "text/plain": [
       "<Axes: >"
      ]
     },
     "execution_count": 47,
     "metadata": {},
     "output_type": "execute_result"
    }
   ],
   "source": [
    "import matplotlib.pyplot as plt\n",
    "import numpy as np\n",
    "\n",
    "corr = df.corr()\n",
    "\n",
    "sns.heatmap(corr)"
   ]
  },
  {
   "cell_type": "code",
   "execution_count": 50,
   "metadata": {},
   "outputs": [
    {
     "data": {
      "image/png": "[encoded data removed]",
      "text/plain": [
       "<Figure size 1900x900 with 2 Axes>"
      ]
     },
     "metadata": {},
     "output_type": "display_data"
    }
   ],
   "source": [
    "corr = df.corr()\n",
    "\n",
    "mask = np.triu(np.ones_like(corr, dtype=bool)) # np.triu devuelve un array con los valores del triángulo superior de otro array de 2 dimensiones\n",
    "\n",
    "fig = plt.figure(figsize=(19, 9))\n",
    "\n",
    "cmap = sns.diverging_palette(210, 5, as_cmap=True) # Para indicar los colores de nuestro heatmap\n",
    "\n",
    "sns.heatmap(corr, mask = mask, cmap = cmap,\n",
    "            vmax = 1, vmin = -1, center = 0,\n",
    "            annot = True, annot_kws={\"size\": 8},\n",
    "            square = True, linewidths = .5,\n",
    "            cbar_kws = {\"shrink\": .5} # Comprimir la barra de la leyenda para ver mejor a que color corresponde cada valor\n",
    "            )\n",
    "\n",
    "plt.show()"
   ]
  },
  {
   "cell_type": "markdown",
   "metadata": {},
   "source": [
    " - Como era de esperar, se puede observar que existe una fuerte relación entre el tamaño del coche y el precio. Sin embargo, y como también se esperaba, el número de caballos tiene una gran influencia sobre el percio.\n",
    " - Por otra parte, se observa que el brand (marca de los coches) no tiene mucha correlación con el precio, lo cual a priori no parece tener mucho sentido. "
   ]
  },
  {
   "cell_type": "markdown",
   "metadata": {},
   "source": [
    "# 3. Model"
   ]
  },
  {
   "cell_type": "code",
   "execution_count": 52,
   "metadata": {},
   "outputs": [
    {
     "data": {
      "text/plain": [
       "Index(['brand', 'fueltype', 'aspiration', 'doornumber', 'carbody',\n",
       "       'enginelocation', 'carlength', 'carwidth', 'carheight', 'curbweight',\n",
       "       'enginetype', 'cylindernumber', 'enginesize', 'fuelsystem', 'boreratio',\n",
       "       'stroke', 'compressionratio', 'horsepower', 'peakrpm', 'citympg',\n",
       "       'highwaympg', 'price'],\n",
       "      dtype='object')"
      ]
     },
     "execution_count": 52,
     "metadata": {},
     "output_type": "execute_result"
    }
   ],
   "source": [
    "df.columns"
   ]
  },
  {
   "cell_type": "code",
   "execution_count": 53,
   "metadata": {},
   "outputs": [],
   "source": [
    "X = df[['brand', 'fueltype', 'aspiration', 'doornumber', 'carbody',\n",
    "       'enginelocation', 'carlength', 'carwidth', 'carheight', 'curbweight',\n",
    "       'enginetype', 'cylindernumber', 'enginesize', 'fuelsystem', 'boreratio',\n",
    "       'stroke', 'compressionratio', 'horsepower', 'peakrpm', 'citympg',\n",
    "       'highwaympg']]"
   ]
  },
  {
   "cell_type": "code",
   "execution_count": 54,
   "metadata": {},
   "outputs": [],
   "source": [
    "y = df['price']"
   ]
  },
  {
   "cell_type": "code",
   "execution_count": 55,
   "metadata": {},
   "outputs": [],
   "source": [
    "from sklearn.model_selection import train_test_split"
   ]
  },
  {
   "cell_type": "code",
   "execution_count": 56,
   "metadata": {},
   "outputs": [],
   "source": [
    "X_train, X_test, y_train, y_test = train_test_split(X, y,\n",
    "                                                    random_state = 42,\n",
    "                                                    test_size = 0.3)"
   ]
  },
  {
   "cell_type": "code",
   "execution_count": 57,
   "metadata": {},
   "outputs": [
    {
     "name": "stdout",
     "output_type": "stream",
     "text": [
      "(143, 21) (62, 21)\n"
     ]
    }
   ],
   "source": [
    "print(X_train.shape, X_test.shape)"
   ]
  },
  {
   "cell_type": "code",
   "execution_count": 58,
   "metadata": {},
   "outputs": [
    {
     "name": "stdout",
     "output_type": "stream",
     "text": [
      "(143,) (62,)\n"
     ]
    }
   ],
   "source": [
    "print(y_train.shape, y_test.shape)"
   ]
  },
  {
   "cell_type": "code",
   "execution_count": 59,
   "metadata": {},
   "outputs": [],
   "source": [
    "from sklearn.linear_model import LinearRegression"
   ]
  },
  {
   "cell_type": "code",
   "execution_count": 60,
   "metadata": {},
   "outputs": [],
   "source": [
    "linreg = LinearRegression()"
   ]
  },
  {
   "cell_type": "code",
   "execution_count": 61,
   "metadata": {},
   "outputs": [
    {
     "data": {
      "text/html": [
       "<style>#sk-container-id-1 {color: black;}#sk-container-id-1 pre{padding: 0;}#sk-container-id-1 div.sk-toggleable {background-color: white;}#sk-container-id-1 label.sk-toggleable__label {cursor: pointer;display: block;width: 100%;margin-bottom: 0;padding: 0.3em;box-sizing: border-box;text-align: center;}#sk-container-id-1 label.sk-toggleable__label-arrow:before {content: \"▸\";float: left;margin-right: 0.25em;color: #696969;}#sk-container-id-1 label.sk-toggleable__label-arrow:hover:before {color: black;}#sk-container-id-1 div.sk-estimator:hover label.sk-toggleable__label-arrow:before {color: black;}#sk-container-id-1 div.sk-toggleable__content {max-height: 0;max-width: 0;overflow: hidden;text-align: left;background-color: #f0f8ff;}#sk-container-id-1 div.sk-toggleable__content pre {margin: 0.2em;color: black;border-radius: 0.25em;background-color: #f0f8ff;}#sk-container-id-1 input.sk-toggleable__control:checked~div.sk-toggleable__content {max-height: 200px;max-width: 100%;overflow: auto;}#sk-container-id-1 input.sk-toggleable__control:checked~label.sk-toggleable__label-arrow:before {content: \"▾\";}#sk-container-id-1 div.sk-estimator input.sk-toggleable__control:checked~label.sk-toggleable__label {background-color: #d4ebff;}#sk-container-id-1 div.sk-label input.sk-toggleable__control:checked~label.sk-toggleable__label {background-color: #d4ebff;}#sk-container-id-1 input.sk-hidden--visually {border: 0;clip: rect(1px 1px 1px 1px);clip: rect(1px, 1px, 1px, 1px);height: 1px;margin: -1px;overflow: hidden;padding: 0;position: absolute;width: 1px;}#sk-container-id-1 div.sk-estimator {font-family: monospace;background-color: #f0f8ff;border: 1px dotted black;border-radius: 0.25em;box-sizing: border-box;margin-bottom: 0.5em;}#sk-container-id-1 div.sk-estimator:hover {background-color: #d4ebff;}#sk-container-id-1 div.sk-parallel-item::after {content: \"\";width: 100%;border-bottom: 1px solid gray;flex-grow: 1;}#sk-container-id-1 div.sk-label:hover label.sk-toggleable__label {background-color: #d4ebff;}#sk-container-id-1 div.sk-serial::before {content: \"\";position: absolute;border-left: 1px solid gray;box-sizing: border-box;top: 0;bottom: 0;left: 50%;z-index: 0;}#sk-container-id-1 div.sk-serial {display: flex;flex-direction: column;align-items: center;background-color: white;padding-right: 0.2em;padding-left: 0.2em;position: relative;}#sk-container-id-1 div.sk-item {position: relative;z-index: 1;}#sk-container-id-1 div.sk-parallel {display: flex;align-items: stretch;justify-content: center;background-color: white;position: relative;}#sk-container-id-1 div.sk-item::before, #sk-container-id-1 div.sk-parallel-item::before {content: \"\";position: absolute;border-left: 1px solid gray;box-sizing: border-box;top: 0;bottom: 0;left: 50%;z-index: -1;}#sk-container-id-1 div.sk-parallel-item {display: flex;flex-direction: column;z-index: 1;position: relative;background-color: white;}#sk-container-id-1 div.sk-parallel-item:first-child::after {align-self: flex-end;width: 50%;}#sk-container-id-1 div.sk-parallel-item:last-child::after {align-self: flex-start;width: 50%;}#sk-container-id-1 div.sk-parallel-item:only-child::after {width: 0;}#sk-container-id-1 div.sk-dashed-wrapped {border: 1px dashed gray;margin: 0 0.4em 0.5em 0.4em;box-sizing: border-box;padding-bottom: 0.4em;background-color: white;}#sk-container-id-1 div.sk-label label {font-family: monospace;font-weight: bold;display: inline-block;line-height: 1.2em;}#sk-container-id-1 div.sk-label-container {text-align: center;}#sk-container-id-1 div.sk-container {/* jupyter's `normalize.less` sets `[hidden] { display: none; }` but bootstrap.min.css set `[hidden] { display: none !important; }` so we also need the `!important` here to be able to override the default hidden behavior on the sphinx rendered scikit-learn.org. See: https://github.com/scikit-learn/scikit-learn/issues/21755 */display: inline-block !important;position: relative;}#sk-container-id-1 div.sk-text-repr-fallback {display: none;}</style><div id=\"sk-container-id-1\" class=\"sk-top-container\"><div class=\"sk-text-repr-fallback\"><pre>LinearRegression()</pre><b>In a Jupyter environment, please rerun this cell to show the HTML representation or trust the notebook. <br />On GitHub, the HTML representation is unable to render, please try loading this page with nbviewer.org.</b></div><div class=\"sk-container\" hidden><div class=\"sk-item\"><div class=\"sk-estimator sk-toggleable\"><input class=\"sk-toggleable__control sk-hidden--visually\" id=\"sk-estimator-id-1\" type=\"checkbox\" checked><label for=\"sk-estimator-id-1\" class=\"sk-toggleable__label sk-toggleable__label-arrow\">LinearRegression</label><div class=\"sk-toggleable__content\"><pre>LinearRegression()</pre></div></div></div></div></div>"
      ],
      "text/plain": [
       "LinearRegression()"
      ]
     },
     "execution_count": 61,
     "metadata": {},
     "output_type": "execute_result"
    }
   ],
   "source": [
    "linreg.fit(X_train, y_train)"
   ]
  },
  {
   "cell_type": "code",
   "execution_count": 62,
   "metadata": {},
   "outputs": [
    {
     "data": {
      "text/plain": [
       "array([25193.37614282, 19165.54317442,  9742.07664174, 14287.92256194,\n",
       "       25813.92905075,  6536.56580775,  7816.58256806,  5788.63308154,\n",
       "        9619.28233929,  6247.12183331, 13871.47539219,  5689.70592288,\n",
       "       14815.92158483, 10704.06088083, 38404.81706377,  5935.24870192,\n",
       "         142.28841955, 15350.73388518,  9622.9462509 , 10455.02866856,\n",
       "       11602.382656  , 21256.8612519 ,  7895.76970555,  4214.77742066,\n",
       "        6924.82597924, 24796.76517382, 13744.95130249, 15821.01817528,\n",
       "        5007.25496105, 16462.74803892, 25845.97435863,  6756.62239871,\n",
       "        5246.51080207, 21466.56551848,  8323.58326679, 26981.23443176,\n",
       "       11490.75526114,  9338.96855335,  6496.72541444, 15670.98117879,\n",
       "        7516.78462792, 12100.10178243, 18602.34951513,  5031.08904409,\n",
       "        6473.73711875, 10705.72044017,  8227.36616831,  6517.20445715,\n",
       "       18253.90005151, 15844.63648746,  6974.51576014, 19009.77975931,\n",
       "        4174.86100824,  9167.2645049 ,  4962.0495448 , 14550.54120925,\n",
       "       13758.86066133,  9338.96855335, 34736.50742156,  6245.83295525,\n",
       "        9734.188974  , 21363.29593253])"
      ]
     },
     "execution_count": 62,
     "metadata": {},
     "output_type": "execute_result"
    }
   ],
   "source": [
    "y_pred = linreg.predict(X_test)\n",
    "y_pred"
   ]
  },
  {
   "cell_type": "markdown",
   "metadata": {},
   "source": [
    "# 4. INterpret"
   ]
  },
  {
   "cell_type": "code",
   "execution_count": 63,
   "metadata": {},
   "outputs": [
    {
     "data": {
      "text/html": [
       "<div>\n",
       "<style scoped>\n",
       "    .dataframe tbody tr th:only-of-type {\n",
       "        vertical-align: middle;\n",
       "    }\n",
       "\n",
       "    .dataframe tbody tr th {\n",
       "        vertical-align: top;\n",
       "    }\n",
       "\n",
       "    .dataframe thead th {\n",
       "        text-align: right;\n",
       "    }\n",
       "</style>\n",
       "<table border=\"1\" class=\"dataframe\">\n",
       "  <thead>\n",
       "    <tr style=\"text-align: right;\">\n",
       "      <th></th>\n",
       "      <th>brand</th>\n",
       "      <th>fueltype</th>\n",
       "      <th>aspiration</th>\n",
       "      <th>doornumber</th>\n",
       "      <th>carbody</th>\n",
       "      <th>enginelocation</th>\n",
       "      <th>carlength</th>\n",
       "      <th>carwidth</th>\n",
       "      <th>carheight</th>\n",
       "      <th>curbweight</th>\n",
       "      <th>...</th>\n",
       "      <th>cylindernumber</th>\n",
       "      <th>enginesize</th>\n",
       "      <th>fuelsystem</th>\n",
       "      <th>boreratio</th>\n",
       "      <th>stroke</th>\n",
       "      <th>compressionratio</th>\n",
       "      <th>horsepower</th>\n",
       "      <th>peakrpm</th>\n",
       "      <th>citympg</th>\n",
       "      <th>highwaympg</th>\n",
       "    </tr>\n",
       "  </thead>\n",
       "  <tbody>\n",
       "    <tr>\n",
       "      <th>78</th>\n",
       "      <td>13</td>\n",
       "      <td>1</td>\n",
       "      <td>0</td>\n",
       "      <td>1</td>\n",
       "      <td>2</td>\n",
       "      <td>0</td>\n",
       "      <td>-1.360937</td>\n",
       "      <td>-0.704593</td>\n",
       "      <td>-1.199923</td>\n",
       "      <td>-1.061911</td>\n",
       "      <td>...</td>\n",
       "      <td>-0.147475</td>\n",
       "      <td>-0.84031</td>\n",
       "      <td>1</td>\n",
       "      <td>-1.331531</td>\n",
       "      <td>-0.081241</td>\n",
       "      <td>-0.187398</td>\n",
       "      <td>-0.915571</td>\n",
       "      <td>0.787855</td>\n",
       "      <td>0.88574</td>\n",
       "      <td>1.055193</td>\n",
       "    </tr>\n",
       "  </tbody>\n",
       "</table>\n",
       "<p>1 rows × 21 columns</p>\n",
       "</div>"
      ],
      "text/plain": [
       "    brand  fueltype  aspiration  doornumber  carbody  enginelocation  \\\n",
       "78     13         1           0           1        2               0   \n",
       "\n",
       "    carlength  carwidth  carheight  curbweight  ...  cylindernumber  \\\n",
       "78  -1.360937 -0.704593  -1.199923   -1.061911  ...       -0.147475   \n",
       "\n",
       "    enginesize  fuelsystem  boreratio    stroke  compressionratio  horsepower  \\\n",
       "78    -0.84031           1  -1.331531 -0.081241         -0.187398   -0.915571   \n",
       "\n",
       "     peakrpm  citympg  highwaympg  \n",
       "78  0.787855  0.88574    1.055193  \n",
       "\n",
       "[1 rows x 21 columns]"
      ]
     },
     "execution_count": 63,
     "metadata": {},
     "output_type": "execute_result"
    }
   ],
   "source": [
    "test = df.drop(\"price\", axis = 1).sample(1)\n",
    "\n",
    "test"
   ]
  },
  {
   "cell_type": "code",
   "execution_count": 64,
   "metadata": {},
   "outputs": [
    {
     "name": "stderr",
     "output_type": "stream",
     "text": [
      "f:\\Anaconda\\Lib\\site-packages\\sklearn\\base.py:464: UserWarning: X does not have valid feature names, but LinearRegression was fitted with feature names\n",
      "  warnings.warn(\n"
     ]
    },
    {
     "data": {
      "text/plain": [
       "array([6836.13013847])"
      ]
     },
     "execution_count": 64,
     "metadata": {},
     "output_type": "execute_result"
    }
   ],
   "source": [
    "linreg.predict(test.values)"
   ]
  },
  {
   "cell_type": "code",
   "execution_count": 69,
   "metadata": {},
   "outputs": [],
   "source": [
    "results = pd.DataFrame(np.c_[y_test, y_pred], columns = [\"real\", \"pred\"])"
   ]
  },
  {
   "cell_type": "code",
   "execution_count": 71,
   "metadata": {},
   "outputs": [
    {
     "data": {
      "text/plain": [
       "<Axes: >"
      ]
     },
     "execution_count": 71,
     "metadata": {},
     "output_type": "execute_result"
    }
   ],
   "source": [
    "results.boxplot(figsize= (9 , 6))"
   ]
  },
  {
   "cell_type": "markdown",
   "metadata": {},
   "source": [
    "- Obtenemos los residuales"
   ]
  },
  {
   "cell_type": "code",
   "execution_count": 72,
   "metadata": {},
   "outputs": [],
   "source": [
    "results[\"residual\"] = results[\"real\"] - results[\"pred\"]"
   ]
  },
  {
   "cell_type": "code",
   "execution_count": 75,
   "metadata": {},
   "outputs": [
    {
     "data": {
      "text/html": [
       "<div>\n",
       "<style scoped>\n",
       "    .dataframe tbody tr th:only-of-type {\n",
       "        vertical-align: middle;\n",
       "    }\n",
       "\n",
       "    .dataframe tbody tr th {\n",
       "        vertical-align: top;\n",
       "    }\n",
       "\n",
       "    .dataframe thead th {\n",
       "        text-align: right;\n",
       "    }\n",
       "</style>\n",
       "<table border=\"1\" class=\"dataframe\">\n",
       "  <thead>\n",
       "    <tr style=\"text-align: right;\">\n",
       "      <th></th>\n",
       "      <th>real</th>\n",
       "      <th>pred</th>\n",
       "      <th>residual</th>\n",
       "    </tr>\n",
       "  </thead>\n",
       "  <tbody>\n",
       "    <tr>\n",
       "      <th>0</th>\n",
       "      <td>30760.000</td>\n",
       "      <td>25193.376143</td>\n",
       "      <td>5566.623857</td>\n",
       "    </tr>\n",
       "    <tr>\n",
       "      <th>1</th>\n",
       "      <td>17859.167</td>\n",
       "      <td>19165.543174</td>\n",
       "      <td>-1306.376174</td>\n",
       "    </tr>\n",
       "    <tr>\n",
       "      <th>2</th>\n",
       "      <td>9549.000</td>\n",
       "      <td>9742.076642</td>\n",
       "      <td>-193.076642</td>\n",
       "    </tr>\n",
       "    <tr>\n",
       "      <th>3</th>\n",
       "      <td>11850.000</td>\n",
       "      <td>14287.922562</td>\n",
       "      <td>-2437.922562</td>\n",
       "    </tr>\n",
       "    <tr>\n",
       "      <th>4</th>\n",
       "      <td>28248.000</td>\n",
       "      <td>25813.929051</td>\n",
       "      <td>2434.070949</td>\n",
       "    </tr>\n",
       "    <tr>\n",
       "      <th>...</th>\n",
       "      <td>...</td>\n",
       "      <td>...</td>\n",
       "      <td>...</td>\n",
       "    </tr>\n",
       "    <tr>\n",
       "      <th>57</th>\n",
       "      <td>11845.000</td>\n",
       "      <td>9338.968553</td>\n",
       "      <td>2506.031447</td>\n",
       "    </tr>\n",
       "    <tr>\n",
       "      <th>58</th>\n",
       "      <td>37028.000</td>\n",
       "      <td>34736.507422</td>\n",
       "      <td>2291.492578</td>\n",
       "    </tr>\n",
       "    <tr>\n",
       "      <th>59</th>\n",
       "      <td>5389.000</td>\n",
       "      <td>6245.832955</td>\n",
       "      <td>-856.832955</td>\n",
       "    </tr>\n",
       "    <tr>\n",
       "      <th>60</th>\n",
       "      <td>9233.000</td>\n",
       "      <td>9734.188974</td>\n",
       "      <td>-501.188974</td>\n",
       "    </tr>\n",
       "    <tr>\n",
       "      <th>61</th>\n",
       "      <td>17199.000</td>\n",
       "      <td>21363.295933</td>\n",
       "      <td>-4164.295933</td>\n",
       "    </tr>\n",
       "  </tbody>\n",
       "</table>\n",
       "<p>62 rows × 3 columns</p>\n",
       "</div>"
      ],
      "text/plain": [
       "         real          pred     residual\n",
       "0   30760.000  25193.376143  5566.623857\n",
       "1   17859.167  19165.543174 -1306.376174\n",
       "2    9549.000   9742.076642  -193.076642\n",
       "3   11850.000  14287.922562 -2437.922562\n",
       "4   28248.000  25813.929051  2434.070949\n",
       "..        ...           ...          ...\n",
       "57  11845.000   9338.968553  2506.031447\n",
       "58  37028.000  34736.507422  2291.492578\n",
       "59   5389.000   6245.832955  -856.832955\n",
       "60   9233.000   9734.188974  -501.188974\n",
       "61  17199.000  21363.295933 -4164.295933\n",
       "\n",
       "[62 rows x 3 columns]"
      ]
     },
     "execution_count": 75,
     "metadata": {},
     "output_type": "execute_result"
    }
   ],
   "source": [
    "results"
   ]
  },
  {
   "cell_type": "code",
   "execution_count": 76,
   "metadata": {},
   "outputs": [
    {
     "data": {
      "text/plain": [
       "330.18669679266605"
      ]
     },
     "execution_count": 76,
     "metadata": {},
     "output_type": "execute_result"
    }
   ],
   "source": [
    "results['residual'].mean()"
   ]
  },
  {
   "cell_type": "code",
   "execution_count": 77,
   "metadata": {},
   "outputs": [
    {
     "data": {
      "text/plain": [
       "11070152.332684442"
      ]
     },
     "execution_count": 77,
     "metadata": {},
     "output_type": "execute_result"
    }
   ],
   "source": [
    "results['residual'].var()"
   ]
  },
  {
   "cell_type": "code",
   "execution_count": 78,
   "metadata": {},
   "outputs": [
    {
     "data": {
      "text/plain": [
       "7180.9540684198855"
      ]
     },
     "execution_count": 78,
     "metadata": {},
     "output_type": "execute_result"
    }
   ],
   "source": [
    "linreg.intercept_"
   ]
  },
  {
   "cell_type": "markdown",
   "metadata": {},
   "source": [
    "## Mean Squared Error (MSE)"
   ]
  },
  {
   "cell_type": "code",
   "execution_count": 79,
   "metadata": {},
   "outputs": [
    {
     "data": {
      "text/plain": [
       "11000624.74334774"
      ]
     },
     "execution_count": 79,
     "metadata": {},
     "output_type": "execute_result"
    }
   ],
   "source": [
    "from sklearn.metrics import mean_squared_error\n",
    "\n",
    "mean_squared_error(y_test, y_pred)"
   ]
  },
  {
   "cell_type": "code",
   "execution_count": 80,
   "metadata": {},
   "outputs": [
    {
     "data": {
      "text/plain": [
       "11000624.74334774"
      ]
     },
     "execution_count": 80,
     "metadata": {},
     "output_type": "execute_result"
    }
   ],
   "source": [
    "results[\"residual\"].apply(np.square).mean()"
   ]
  },
  {
   "cell_type": "markdown",
   "metadata": {},
   "source": [
    "## Coeficiente r cuadrado"
   ]
  },
  {
   "cell_type": "code",
   "execution_count": 81,
   "metadata": {},
   "outputs": [
    {
     "data": {
      "text/plain": [
       "0.8412250356596664"
      ]
     },
     "execution_count": 81,
     "metadata": {},
     "output_type": "execute_result"
    }
   ],
   "source": [
    "linreg.score(X_test, y_test)"
   ]
  }
 ],
 "metadata": {
  "kernelspec": {
   "display_name": "base",
   "language": "python",
   "name": "python3"
  },
  "language_info": {
   "codemirror_mode": {
    "name": "ipython",
    "version": 3
   },
   "file_extension": ".py",
   "mimetype": "text/x-python",
   "name": "python",
   "nbconvert_exporter": "python",
   "pygments_lexer": "ipython3",
   "version": "3.11.5"
  }
 },
 "nbformat": 4,
 "nbformat_minor": 2
}
